{
  "nbformat": 4,
  "nbformat_minor": 0,
  "metadata": {
    "colab": {
      "name": "DBSCAN_Clustering.ipynb",
      "provenance": [],
      "authorship_tag": "ABX9TyMth7enKOKlXJYyjKOovAZ+"
    },
    "kernelspec": {
      "name": "python3",
      "display_name": "Python 3"
    },
    "language_info": {
      "name": "python"
    }
  },
  "cells": [
    {
      "cell_type": "code",
      "source": [
        "# Load libraries \n",
        "from sklearn import datasets \n",
        "from sklearn.preprocessing import StandardScaler\n",
        "from sklearn.cluster import DBSCAN"
      ],
      "metadata": {
        "id": "Cv2zo000XU2C"
      },
      "execution_count": 2,
      "outputs": []
    },
    {
      "cell_type": "markdown",
      "source": [
        "### Load Iris Flower Dataset"
      ],
      "metadata": {
        "id": "sGdm3RrMWm_Q"
      }
    },
    {
      "cell_type": "code",
      "source": [
        "# Load data \n",
        "iris = datasets.load_iris()\n",
        "type(iris)"
      ],
      "metadata": {
        "colab": {
          "base_uri": "https://localhost:8080/"
        },
        "id": "5Xhy76dzWnCp",
        "outputId": "7d865c99-6f07-482c-ab92-e573c1592417"
      },
      "execution_count": 6,
      "outputs": [
        {
          "output_type": "execute_result",
          "data": {
            "text/plain": [
              "sklearn.utils.Bunch"
            ]
          },
          "metadata": {},
          "execution_count": 6
        }
      ]
    },
    {
      "cell_type": "code",
      "source": [
        "# Get the data features\n",
        "X = iris.data\n",
        "X[:5]"
      ],
      "metadata": {
        "colab": {
          "base_uri": "https://localhost:8080/"
        },
        "id": "eGEo9_jWX6JA",
        "outputId": "03f4cd40-516c-412b-a3a8-06e4e00e59be"
      },
      "execution_count": 8,
      "outputs": [
        {
          "output_type": "execute_result",
          "data": {
            "text/plain": [
              "array([[5.1, 3.5, 1.4, 0.2],\n",
              "       [4.9, 3. , 1.4, 0.2],\n",
              "       [4.7, 3.2, 1.3, 0.2],\n",
              "       [4.6, 3.1, 1.5, 0.2],\n",
              "       [5. , 3.6, 1.4, 0.2]])"
            ]
          },
          "metadata": {},
          "execution_count": 8
        }
      ]
    },
    {
      "cell_type": "markdown",
      "source": [
        "### Standardize Features"
      ],
      "metadata": {
        "id": "URuVM3m5YByZ"
      }
    },
    {
      "cell_type": "code",
      "source": [
        "# Standarize features\n",
        "scaler = StandardScaler()\n",
        "X_std = scaler.fit_transform(X)\n",
        "\n",
        "# Check out the data features after standardization \n",
        "X_std[:5]"
      ],
      "metadata": {
        "colab": {
          "base_uri": "https://localhost:8080/"
        },
        "id": "Zayrgr5vYJcZ",
        "outputId": "aaff2068-2490-491f-bf26-a6ed2311f216"
      },
      "execution_count": 9,
      "outputs": [
        {
          "output_type": "execute_result",
          "data": {
            "text/plain": [
              "array([[-0.90068117,  1.01900435, -1.34022653, -1.3154443 ],\n",
              "       [-1.14301691, -0.13197948, -1.34022653, -1.3154443 ],\n",
              "       [-1.38535265,  0.32841405, -1.39706395, -1.3154443 ],\n",
              "       [-1.50652052,  0.09821729, -1.2833891 , -1.3154443 ],\n",
              "       [-1.02184904,  1.24920112, -1.34022653, -1.3154443 ]])"
            ]
          },
          "metadata": {},
          "execution_count": 9
        }
      ]
    },
    {
      "cell_type": "markdown",
      "source": [
        "### Conduct DBSCAN Clustering \n",
        "\n",
        "`DBSCAN` has three main parameters to set:\n",
        "\n",
        "* `eps`: The maximum distance from an observation for another observation to be considered its neighbor.\n",
        "\n",
        "* `min_samples`: The minimum number of observation less than eps distance from an observation for to be considered a core observation.\n",
        "* `metric`: The distance metric used by eps. For example, minkowski, euclidean, etc. (note that if Minkowski distance is used, the parameter p can be used to set the power of the Minkowski metric)\n",
        "\n",
        "If we look at the clusters in our training data we can see two clusters have been identified, 0 and 1, while outlier observations are labeled -1."
      ],
      "metadata": {
        "id": "FpQXOX3QYXIL"
      }
    },
    {
      "cell_type": "code",
      "source": [
        "# Create meanshift object\n",
        "clt = DBSCAN(n_jobs=-1) # The number of parallel jobs to run.\n",
        "clt\n"
      ],
      "metadata": {
        "colab": {
          "base_uri": "https://localhost:8080/"
        },
        "id": "lBW4Uf4aYzoR",
        "outputId": "de2aebbb-f0f7-4efd-ae6e-f0f750046cfc"
      },
      "execution_count": 10,
      "outputs": [
        {
          "output_type": "execute_result",
          "data": {
            "text/plain": [
              "DBSCAN(n_jobs=-1)"
            ]
          },
          "metadata": {},
          "execution_count": 10
        }
      ]
    },
    {
      "cell_type": "code",
      "source": [
        "# Fit the DBSCAN model to the data\n",
        "DBSCAN_model = clt.fit(X_std)\n",
        "DBSCAN_model"
      ],
      "metadata": {
        "colab": {
          "base_uri": "https://localhost:8080/"
        },
        "id": "KZW9pYCjZFtF",
        "outputId": "304baee3-96f9-4ab1-d21b-c786e3833287"
      },
      "execution_count": 11,
      "outputs": [
        {
          "output_type": "execute_result",
          "data": {
            "text/plain": [
              "DBSCAN(n_jobs=-1)"
            ]
          },
          "metadata": {},
          "execution_count": 11
        }
      ]
    },
    {
      "cell_type": "markdown",
      "source": [
        "### References: \n",
        "\n",
        "* [DBSCAN Clustering](https://chrisalbon.com/code/machine_learning/clustering/dbscan_clustering/)"
      ],
      "metadata": {
        "id": "vf5LscddZXvy"
      }
    }
  ]
}